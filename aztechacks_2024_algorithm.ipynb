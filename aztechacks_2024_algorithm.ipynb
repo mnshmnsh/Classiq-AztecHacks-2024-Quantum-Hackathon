{
  "cells": [
    {
      "cell_type": "markdown",
      "metadata": {
        "id": "view-in-github",
        "colab_type": "text"
      },
      "source": [
        "<a href=\"https://colab.research.google.com/github/mnshmnsh/Classiq-AztecHacks-2024-Quantum-Hackathon/blob/main/aztechacks_2024_algorithm.ipynb\" target=\"_parent\"><img src=\"https://colab.research.google.com/assets/colab-badge.svg\" alt=\"Open In Colab\"/></a>"
      ]
    },
    {
      "cell_type": "markdown",
      "metadata": {
        "id": "NmfQEwtuPIDG"
      },
      "source": [
        "# AztecHacks 2024: Quantum Challenge - Implement & Innovate with Classiq\n",
        "\n",
        "---"
      ]
    },
    {
      "cell_type": "code",
      "source": [
        "import classiq\n",
        "classiq.authenticate()\n"
      ],
      "metadata": {
        "id": "_RtKdA5uRnmt",
        "colab": {
          "base_uri": "https://localhost:8080/"
        },
        "outputId": "3793315e-5157-4743-8e03-77b3aa6e3849",
        "collapsed": true
      },
      "execution_count": null,
      "outputs": [
        {
          "output_type": "stream",
          "name": "stdout",
          "text": [
            "Your user code: PRQL-XDTC\n",
            "If a browser doesn't automatically open, please visit this URL from any trusted device: https://auth.classiq.io/activate?user_code=PRQL-XDTC\n"
          ]
        }
      ]
    },
    {
      "cell_type": "code",
      "execution_count": null,
      "metadata": {
        "id": "ghBG32FQPIDa"
      },
      "outputs": [],
      "source": [
        "from classiq import *\n",
        "import numpy as np"
      ]
    },
    {
      "cell_type": "code",
      "source": [
        "# Generic imports\n",
        "from classiq import QArray, QBit, allocate, create_model"
      ],
      "metadata": {
        "id": "ZYlPrRArRM-g"
      },
      "execution_count": null,
      "outputs": []
    },
    {
      "cell_type": "code",
      "source": [
        "# This notebok implements the W3 Werner state.\n",
        "# It is a superposition of all states that have only 1 qubit\n",
        "# set to 1 with the rest being 0.\n",
        "# It uses a sequence of CNOTs followed by NOTs.\n",
        "# It yields the states '001', 010' and '100' in superposition.\n",
        "\n",
        "from classiq import *\n",
        "\n",
        "\n",
        "@qfunc\n",
        "def main():\n",
        "    q1 = QBit(\"q1\")\n",
        "    q2 = QBit('q2')\n",
        "    q3 = QBit('q3')\n",
        "\n",
        "    allocate(1, q1)\n",
        "    allocate(1, q2)\n",
        "    allocate(1, q3)\n",
        "\n",
        "\n",
        "    RY(1.231, q1)\n",
        "    X(q1)\n",
        "    CH(q1, q2)\n",
        "    X(q2)\n",
        "    CX(q1, q2)\n",
        "    CX(q2, q3)\n",
        "    CX(q1, q2)\n",
        "    X(q1)\n",
        "    X(q2)\n",
        "    X(q3)\n",
        "\n",
        "# Create the quantum model\n",
        "qmod = create_model(main)\n",
        "# Write the quantum model to a file\n",
        "write_qmod(qmod, \"Werner-state_example\")\n",
        "# Synthesize the quantum program\n",
        "qprog = synthesize(qmod)\n",
        "\n",
        "# Execute the quantum program and get the result\n",
        "result = execute(qprog).result()[0].value\n",
        "print(result.parsed_counts)"
      ],
      "metadata": {
        "colab": {
          "base_uri": "https://localhost:8080/"
        },
        "collapsed": true,
        "id": "2ol57CcUfgDc",
        "outputId": "6072bbf3-8cce-4272-eada-83555dd24e72"
      },
      "execution_count": 38,
      "outputs": [
        {
          "output_type": "stream",
          "name": "stdout",
          "text": [
            "[{'meas': 2.0}: 725, {'meas': 4.0}: 665, {'meas': 1.0}: 658]\n"
          ]
        }
      ]
    }
  ],
  "metadata": {
    "kernelspec": {
      "display_name": "Python 3",
      "language": "python",
      "name": "python3"
    },
    "language_info": {
      "codemirror_mode": {
        "name": "ipython",
        "version": 3
      },
      "file_extension": ".py",
      "mimetype": "text/x-python",
      "name": "python",
      "nbconvert_exporter": "python",
      "pygments_lexer": "ipython3",
      "version": "3.11.8"
    },
    "colab": {
      "provenance": [],
      "include_colab_link": true
    }
  },
  "nbformat": 4,
  "nbformat_minor": 0
}
